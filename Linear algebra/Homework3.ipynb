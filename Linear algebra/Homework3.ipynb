{
 "cells": [
  {
   "cell_type": "code",
   "execution_count": 1,
   "metadata": {},
   "outputs": [],
   "source": [
    "import numpy as np"
   ]
  },
  {
   "cell_type": "markdown",
   "metadata": {},
   "source": [
    "__1.__ Найти собственные векторы и собственные значения для линейного оператора, заданного матрицей\n",
    "\n",
    "$$A=\\begin{pmatrix}\n",
    "-1 & -6\\\\ \n",
    "2 & 6\n",
    "\\end{pmatrix}.$$"
   ]
  },
  {
   "cell_type": "markdown",
   "metadata": {},
   "source": [
    "Составим характерестический многочлен и найдем собственные значения:\n",
    "$$\\begin{vmatrix}\n",
    "-1-\\lambda & -6\\\\ \n",
    "2 & 6-\\lambda\n",
    "\\end{vmatrix} = -(1+\\lambda)(6-\\lambda)+12 = -6-5\\lambda+\\lambda^{2}+12 = \\lambda^{2}-5\\lambda+6=0$$\n",
    "$$\\lambda = \\frac{5\\pm 1}{2}, \\lambda_{1} = 3, \\lambda_{2} = 2$$\n",
    "Теперь найдем собственные векторы для этих собственных значений:\n",
    "$$\\begin{pmatrix}\n",
    "-1 & -6\\\\ \n",
    "2 & 6\n",
    "\\end{pmatrix}\n",
    "\\begin{pmatrix}\n",
    "x_{1}\\\\\n",
    "x_{2}\n",
    "\\end{pmatrix} = 3\\cdot \\begin{pmatrix}\n",
    "x_{1}\\\\\n",
    "x_{2}\n",
    "\\end{pmatrix} =>\n",
    "\\begin{cases}\n",
    "-x_{1}-6x_{2}=3x_{1},\\\\\n",
    "2x_{1}+6x_{2}=3x_{2}\n",
    "\\end{cases}=>\\begin{cases}\n",
    "4x_{1}+6x_{2}=0,\\\\\n",
    "2x_{1}+3x_{2}=0\n",
    "\\end{cases}=> x_{1}=\\frac{3}{2}x_{2}, x_{2}\\in \\mathbb{R}$$\n",
    "В качестве примера собственного вектора, можно взять вектор с $x_{2} = 2: \\begin{pmatrix}\n",
    "3\\\\\n",
    "2\n",
    "\\end{pmatrix}$<br>\n",
    "Теперь найдем собственный вектор для $\\lambda = 2$:\n",
    "$$\\begin{pmatrix}\n",
    "-1 & -6\\\\ \n",
    "2 & 6\n",
    "\\end{pmatrix}\n",
    "\\begin{pmatrix}\n",
    "x_{1}\\\\\n",
    "x_{2}\n",
    "\\end{pmatrix} = 3\\cdot \\begin{pmatrix}\n",
    "x_{1}\\\\\n",
    "x_{2}\n",
    "\\end{pmatrix} =>\n",
    "\\begin{cases}\n",
    "-x_{1}-6x_{2}=2x_{1},\\\\\n",
    "2x_{1}+6x_{2}=2x_{2}\n",
    "\\end{cases}=>\\begin{cases}\n",
    "3x_{1}+6x_{2}=0,\\\\\n",
    "2x_{1}+4x_{2}=0\n",
    "\\end{cases}=>x_{1} = -2x_{2}, x_{2}\\in \\mathbb{R}$$\n",
    "Положим $x_{2} = 1$ и получим вектор $\\begin{pmatrix}\n",
    "-2\\\\\n",
    "1\n",
    "\\end{pmatrix}$"
   ]
  },
  {
   "cell_type": "markdown",
   "metadata": {},
   "source": [
    "__2.__ Дан оператор поворота на 180 градусов, задаваемый матрицей \n",
    "\n",
    "$$A=\\begin{pmatrix}\n",
    "-1 & 0\\\\ \n",
    "0 & -1\n",
    "\\end{pmatrix}.$$\n",
    "\n",
    "Показать, что __любой__ вектор является для него собственным."
   ]
  },
  {
   "cell_type": "markdown",
   "metadata": {},
   "source": [
    "$$\\begin{pmatrix}\n",
    "-1 & 0\\\\ \n",
    "0 & -1\n",
    "\\end{pmatrix}\\begin{pmatrix}\n",
    "x_{1}\\\\\n",
    "x_{2}\n",
    "\\end{pmatrix} = \\lambda\\begin{pmatrix}\n",
    "x_{1}\\\\\n",
    "x_{2}\n",
    "\\end{pmatrix}=>\\begin{cases}\n",
    "-x_{1} = \\lambda x_{1},\\\\\n",
    "-x_{2} = \\lambda x_{2}\n",
    "\\end{cases}=> \\lambda = -1. x_{1},x_{2} \\in \\mathbb{R}$$"
   ]
  },
  {
   "cell_type": "markdown",
   "metadata": {},
   "source": [
    "__3.__ Пусть линейный оператор задан матрицей\n",
    "\n",
    "$$A=\\begin{pmatrix}\n",
    "1 & 1\\\\ \n",
    "-1 & 3\n",
    "\\end{pmatrix}.$$\n",
    "\n",
    "Установить, является ли вектор $x=(1,1)$ собственным вектором этого линейного оператора."
   ]
  },
  {
   "cell_type": "markdown",
   "metadata": {},
   "source": [
    "$$\\begin{pmatrix}\n",
    "1 & 1\\\\ \n",
    "-1 & 3\n",
    "\\end{pmatrix}\n",
    "\\begin{pmatrix}\n",
    "1\\\\ \n",
    "1\n",
    "\\end{pmatrix}=\\lambda \\begin{pmatrix}\n",
    "1\\\\ \n",
    "1\n",
    "\\end{pmatrix} => \\begin{cases}\n",
    "2 = \\lambda,\\\\\n",
    "2 = \\lambda\n",
    "\\end{cases}$$\n",
    "А значит вектор является собственным с собственным значением $\\lambda = 2$"
   ]
  },
  {
   "cell_type": "markdown",
   "metadata": {},
   "source": [
    "__4.__ Пусть линейный оператор задан матрицей\n",
    "\n",
    "$$A=\\begin{pmatrix}\n",
    "0 & 3 & 0\\\\ \n",
    "3 & 0 & 0\\\\\n",
    "0 & 0 & 3\n",
    "\\end{pmatrix}.$$\n",
    "\n",
    "Установить, является ли вектор $x=(3, -3, -4)$ собственным вектором этого линейного оператора."
   ]
  },
  {
   "cell_type": "markdown",
   "metadata": {},
   "source": [
    "$$\\begin{pmatrix}\n",
    "0 & 3 & 0\\\\ \n",
    "3 & 0 & 0\\\\\n",
    "0 & 0 & 3\n",
    "\\end{pmatrix}\n",
    "\\begin{pmatrix}\n",
    "3\\\\ \n",
    "-3\\\\\n",
    "-4\n",
    "\\end{pmatrix} = \\lambda \\begin{pmatrix}\n",
    "3\\\\ \n",
    "-3\\\\\n",
    "-4\n",
    "\\end{pmatrix} => \\begin{cases}\n",
    "-9=3\\lambda,\\\\\n",
    "9=-3\\lambda,\\\\\n",
    "-12=-4\\lambda\n",
    "\\end{cases}=>\\begin{cases}\n",
    "\\lambda=-3,\\\\\n",
    "\\lambda=-3,\\\\\n",
    "\\lambda=3\n",
    "\\end{cases}$$\n",
    "А значит вектор не является собственным."
   ]
  },
  {
   "cell_type": "code",
   "execution_count": 6,
   "metadata": {},
   "outputs": [
    {
     "data": {
      "text/plain": [
       "array([[ -9],\n",
       "       [  9],\n",
       "       [-12]])"
      ]
     },
     "execution_count": 6,
     "metadata": {},
     "output_type": "execute_result"
    }
   ],
   "source": [
    "A = np.array([[0,3,0],[3,0,0],[0,0,3]])\n",
    "x = np.array([[3,-3,-4]])\n",
    "A.dot(x.T)"
   ]
  }
 ],
 "metadata": {
  "kernelspec": {
   "display_name": "Python 3",
   "language": "python",
   "name": "python3"
  },
  "language_info": {
   "codemirror_mode": {
    "name": "ipython",
    "version": 3
   },
   "file_extension": ".py",
   "mimetype": "text/x-python",
   "name": "python",
   "nbconvert_exporter": "python",
   "pygments_lexer": "ipython3",
   "version": "3.7.3"
  }
 },
 "nbformat": 4,
 "nbformat_minor": 2
}
