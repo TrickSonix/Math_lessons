{
 "cells": [
  {
   "cell_type": "code",
   "execution_count": 151,
   "metadata": {},
   "outputs": [],
   "source": [
    "import numpy as np\n",
    "import matplotlib.pyplot as plt"
   ]
  },
  {
   "cell_type": "markdown",
   "metadata": {},
   "source": [
    "1. Постройте график зависимости весов всех признаков от lambda в L2-регуляризации (на данных из урока)."
   ]
  },
  {
   "cell_type": "code",
   "execution_count": 152,
   "metadata": {},
   "outputs": [],
   "source": [
    "X = np.array([[1, 1, 1, 1, 1, 1, 1, 1, 1, 1],\n",
    "              [1, 1, 2, 1, 3, 0, 5, 10, 1, 2],\n",
    "              [500, 700, 750, 600, 1450,\n",
    "               800, 1500, 2000, 450, 1000],\n",
    "              [1, 1, 2, 1, 2, \n",
    "               1, 3, 3, 1, 2]])\n",
    "y = np.array([45, 55, 50, 59, 65,\n",
    "    35, 75, 80, 50, 60])"
   ]
  },
  {
   "cell_type": "code",
   "execution_count": 153,
   "metadata": {},
   "outputs": [],
   "source": [
    "def LR_with_l2(X, y, iterations, alpha = 1e-4, eps = 1e-3, lambda_ = 1e-8):\n",
    "    np.random.seed(20)\n",
    "    W = np.random.randn(X.shape[0])\n",
    "    w_dist = np.inf\n",
    "    i = 0\n",
    "    while w_dist > eps and i < iterations:\n",
    "        y_pred = np.dot(W, X)\n",
    "        new_W = W - alpha*((2/X.shape[1]*np.dot(X, y_pred-y)) + lambda_*W)\n",
    "        w_dist = np.linalg.norm(new_W-W, ord=2)\n",
    "        #if i % 1000 == 0:\n",
    "            #print(i, new_W)\n",
    "        W = new_W\n",
    "        i += 1\n",
    "    return W"
   ]
  },
  {
   "cell_type": "code",
   "execution_count": 171,
   "metadata": {},
   "outputs": [],
   "source": [
    "def data_std(data):\n",
    "    d_mean = data.mean(axis=1)\n",
    "    d_std = data.std(axis=1)\n",
    "    res = np.zeros(data.shape)\n",
    "    for index, row in enumerate(data):\n",
    "        res[index] = (row - d_mean[index])/d_std[index]\n",
    "    return res"
   ]
  },
  {
   "cell_type": "code",
   "execution_count": 172,
   "metadata": {},
   "outputs": [
    {
     "data": {
      "text/plain": [
       "array([[-0.57142857, -0.57142857, -0.21428571, -0.57142857,  0.14285714,\n",
       "        -0.92857143,  0.85714286,  2.64285714, -0.57142857, -0.21428571],\n",
       "       [-0.97958969, -0.56713087, -0.46401617, -0.77336028,  0.97958969,\n",
       "        -0.36090146,  1.08270439,  2.11385144, -1.08270439,  0.05155735],\n",
       "       [-0.89625816, -0.89625816,  0.38411064, -0.89625816,  0.38411064,\n",
       "        -0.89625816,  1.66447944,  1.66447944, -0.89625816,  0.38411064],\n",
       "       [ 1.        ,  1.        ,  1.        ,  1.        ,  1.        ,\n",
       "         1.        ,  1.        ,  1.        ,  1.        ,  1.        ]])"
      ]
     },
     "execution_count": 172,
     "metadata": {},
     "output_type": "execute_result"
    }
   ],
   "source": [
    "X_st = data_std(X[1:])\n",
    "X_st = np.append(X_st, np.ones((1,X.shape[1])), axis=0)\n",
    "X_st"
   ]
  },
  {
   "cell_type": "code",
   "execution_count": 173,
   "metadata": {},
   "outputs": [],
   "source": [
    "lambda_list = np.random.uniform(0,2, 500)\n",
    "W_list = []\n",
    "for x in lambda_list:\n",
    "    W_list.append(LR_with_l2(X_st, y, 10000, lambda_ = x))"
   ]
  },
  {
   "cell_type": "code",
   "execution_count": 174,
   "metadata": {},
   "outputs": [],
   "source": [
    "w0 = [x[0] for x in W_list]\n",
    "w1 = [x[1] for x in W_list]\n",
    "w2 = [x[2] for x in W_list]\n",
    "w3 = [x[3] for x in W_list]"
   ]
  },
  {
   "cell_type": "code",
   "execution_count": 175,
   "metadata": {
    "scrolled": true
   },
   "outputs": [
    {
     "data": {
      "image/png": "[encoded data removed]",
      "text/plain": [
       "<Figure size 576x432 with 4 Axes>"
      ]
     },
     "metadata": {
      "needs_background": "light"
     },
     "output_type": "display_data"
    }
   ],
   "source": [
    "fig, ax = plt.subplots(nrows=2, ncols=2)\n",
    "ax1, ax2, ax3, ax4 = ax.flatten()\n",
    "\n",
    "ax1.scatter(lambda_list, w0)\n",
    "ax1.set_title('$W_0$')\n",
    "\n",
    "ax2.scatter(lambda_list, w1)\n",
    "ax2.set_title('$W_1$')\n",
    "\n",
    "ax3.scatter(lambda_list, w2)\n",
    "ax3.set_title('$W_2$')\n",
    "\n",
    "ax4.scatter(lambda_list, w3)\n",
    "ax4.set_title('$W_3$')\n",
    "\n",
    "fig.set_size_inches(8,6)\n",
    "plt.subplots_adjust(wspace=0.3, hspace=0.3)"
   ]
  },
  {
   "cell_type": "markdown",
   "metadata": {},
   "source": [
    "2. Можно ли к одному и тому же признаку применить сразу и нормализацию, и стандартизацию?"
   ]
  },
  {
   "cell_type": "markdown",
   "metadata": {},
   "source": [
    "Ответ: Можно. Но это никак не повлияет на результат. Если мы применим нормализацию к стандартизированным данным, мы получим такие же данные, как если бы просто применили стандартизацию к исходным данным. Так же и наоборот."
   ]
  },
  {
   "cell_type": "code",
   "execution_count": 188,
   "metadata": {},
   "outputs": [],
   "source": [
    "def data_norm(data):\n",
    "    data_min = data.min(axis=1)\n",
    "    data_max = data.max(axis=1)\n",
    "    res = np.zeros(data.shape)\n",
    "    for index, row in enumerate(data):\n",
    "        res[index] = (row - data_min[index])/(data_max[index]-data_min[index])\n",
    "    return res"
   ]
  },
  {
   "cell_type": "code",
   "execution_count": 189,
   "metadata": {},
   "outputs": [
    {
     "data": {
      "text/plain": [
       "array([[0.1       , 0.1       , 0.2       , 0.1       , 0.3       ,\n",
       "        0.        , 0.5       , 1.        , 0.1       , 0.2       ],\n",
       "       [0.03225806, 0.16129032, 0.19354839, 0.09677419, 0.64516129,\n",
       "        0.22580645, 0.67741935, 1.        , 0.        , 0.35483871],\n",
       "       [0.        , 0.        , 0.5       , 0.        , 0.5       ,\n",
       "        0.        , 1.        , 1.        , 0.        , 0.5       ],\n",
       "       [1.        , 1.        , 1.        , 1.        , 1.        ,\n",
       "        1.        , 1.        , 1.        , 1.        , 1.        ]])"
      ]
     },
     "execution_count": 189,
     "metadata": {},
     "output_type": "execute_result"
    }
   ],
   "source": [
    "X_norm = data_norm(X[1:])\n",
    "X_norm = np.append(X_norm, np.ones((1,X.shape[1])), axis=0)\n",
    "X_norm"
   ]
  },
  {
   "cell_type": "code",
   "execution_count": 190,
   "metadata": {},
   "outputs": [
    {
     "data": {
      "text/plain": [
       "(array([[0.1       , 0.1       , 0.2       , 0.1       , 0.3       ,\n",
       "         0.        , 0.5       , 1.        , 0.1       , 0.2       ],\n",
       "        [0.03225806, 0.16129032, 0.19354839, 0.09677419, 0.64516129,\n",
       "         0.22580645, 0.67741935, 1.        , 0.        , 0.35483871],\n",
       "        [0.        , 0.        , 0.5       , 0.        , 0.5       ,\n",
       "         0.        , 1.        , 1.        , 0.        , 0.5       ]]),\n",
       " array([[0.1       , 0.1       , 0.2       , 0.1       , 0.3       ,\n",
       "         0.        , 0.5       , 1.        , 0.1       , 0.2       ],\n",
       "        [0.03225806, 0.16129032, 0.19354839, 0.09677419, 0.64516129,\n",
       "         0.22580645, 0.67741935, 1.        , 0.        , 0.35483871],\n",
       "        [0.        , 0.        , 0.5       , 0.        , 0.5       ,\n",
       "         0.        , 1.        , 1.        , 0.        , 0.5       ],\n",
       "        [1.        , 1.        , 1.        , 1.        , 1.        ,\n",
       "         1.        , 1.        , 1.        , 1.        , 1.        ]]))"
      ]
     },
     "execution_count": 190,
     "metadata": {},
     "output_type": "execute_result"
    }
   ],
   "source": [
    "data_norm(X_st[:-1]), X_norm"
   ]
  },
  {
   "cell_type": "code",
   "execution_count": 191,
   "metadata": {},
   "outputs": [
    {
     "data": {
      "text/plain": [
       "(array([[-0.57142857, -0.57142857, -0.21428571, -0.57142857,  0.14285714,\n",
       "         -0.92857143,  0.85714286,  2.64285714, -0.57142857, -0.21428571],\n",
       "        [-0.97958969, -0.56713087, -0.46401617, -0.77336028,  0.97958969,\n",
       "         -0.36090146,  1.08270439,  2.11385144, -1.08270439,  0.05155735],\n",
       "        [-0.89625816, -0.89625816,  0.38411064, -0.89625816,  0.38411064,\n",
       "         -0.89625816,  1.66447944,  1.66447944, -0.89625816,  0.38411064]]),\n",
       " array([[-0.57142857, -0.57142857, -0.21428571, -0.57142857,  0.14285714,\n",
       "         -0.92857143,  0.85714286,  2.64285714, -0.57142857, -0.21428571],\n",
       "        [-0.97958969, -0.56713087, -0.46401617, -0.77336028,  0.97958969,\n",
       "         -0.36090146,  1.08270439,  2.11385144, -1.08270439,  0.05155735],\n",
       "        [-0.89625816, -0.89625816,  0.38411064, -0.89625816,  0.38411064,\n",
       "         -0.89625816,  1.66447944,  1.66447944, -0.89625816,  0.38411064],\n",
       "        [ 1.        ,  1.        ,  1.        ,  1.        ,  1.        ,\n",
       "          1.        ,  1.        ,  1.        ,  1.        ,  1.        ]]))"
      ]
     },
     "execution_count": 191,
     "metadata": {},
     "output_type": "execute_result"
    }
   ],
   "source": [
    "data_std(X_norm[:-1]), X_st"
   ]
  },
  {
   "cell_type": "markdown",
   "metadata": {},
   "source": [
    "3*. Напишите функцию наподобие eval_model_reg2, но для применения L1-регуляризации."
   ]
  },
  {
   "cell_type": "code",
   "execution_count": 176,
   "metadata": {},
   "outputs": [],
   "source": [
    "def LR_with_l1(X, y, iterations, alpha = 1e-4, eps = 1e-3, lambda_ = 1e-8):\n",
    "    np.random.seed(20)\n",
    "    W = np.random.randn(X.shape[0])\n",
    "    w_dist = np.inf\n",
    "    i = 0\n",
    "    while w_dist > eps and i < iterations:\n",
    "        y_pred = np.dot(W, X)\n",
    "        new_W = W - alpha*((2/X.shape[1]*np.dot(X, y_pred-y)) + lambda_*np.sign(W))\n",
    "        w_dist = np.linalg.norm(new_W-W, ord=2)\n",
    "        #if i % 1000 == 0:\n",
    "            #print(i, new_W)\n",
    "        W = new_W\n",
    "        i += 1\n",
    "    return W"
   ]
  },
  {
   "cell_type": "code",
   "execution_count": 177,
   "metadata": {},
   "outputs": [
    {
     "data": {
      "text/plain": [
       "array([ 4.60334901,  3.25780332,  3.74283812, 49.31624585])"
      ]
     },
     "execution_count": 177,
     "metadata": {},
     "output_type": "execute_result"
    }
   ],
   "source": [
    "LR_with_l1(X_st, y, 10000)"
   ]
  },
  {
   "cell_type": "code",
   "execution_count": 178,
   "metadata": {},
   "outputs": [
    {
     "data": {
      "text/plain": [
       "array([ 4.42149274,  3.08466282,  3.5581235 , 48.88939439])"
      ]
     },
     "execution_count": 178,
     "metadata": {},
     "output_type": "execute_result"
    }
   ],
   "source": [
    "LR_with_l1(X_st, y, 10000, lambda_ = 1)"
   ]
  }
 ],
 "metadata": {
  "kernelspec": {
   "display_name": "Python 3",
   "language": "python",
   "name": "python3"
  },
  "language_info": {
   "codemirror_mode": {
    "name": "ipython",
    "version": 3
   },
   "file_extension": ".py",
   "mimetype": "text/x-python",
   "name": "python",
   "nbconvert_exporter": "python",
   "pygments_lexer": "ipython3",
   "version": "3.7.3"
  }
 },
 "nbformat": 4,
 "nbformat_minor": 2
}
