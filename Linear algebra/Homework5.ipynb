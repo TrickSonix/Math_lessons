{
 "cells": [
  {
   "cell_type": "code",
   "execution_count": 1,
   "metadata": {},
   "outputs": [],
   "source": [
    "import numpy as np"
   ]
  },
  {
   "cell_type": "markdown",
   "metadata": {},
   "source": [
    "Задание с предыдущего урока:\n",
    "__5*.__ Написать на Python программу с реализацией одного из изученных алгоритмов решения СЛАУ."
   ]
  },
  {
   "cell_type": "code",
   "execution_count": 38,
   "metadata": {},
   "outputs": [],
   "source": [
    "from scipy.linalg import lu"
   ]
  },
  {
   "cell_type": "code",
   "execution_count": 131,
   "metadata": {},
   "outputs": [],
   "source": [
    "def triangle_solve(matrix, free_coef, descending=False):\n",
    "    res = np.zeros_like(free_coef, dtype=float)\n",
    "    if descending:\n",
    "        for index, element in reversed(list(enumerate(free_coef))):\n",
    "            res[index, 0] = (element[0]-matrix.dot(res)[index,0])/matrix[index, index]\n",
    "    else:\n",
    "        for index, element in enumerate(free_coef):\n",
    "            res[index, 0] = (element[0]-matrix.dot(res)[index,0])/matrix[index, index]\n",
    "    return res"
   ]
  },
  {
   "cell_type": "code",
   "execution_count": 129,
   "metadata": {},
   "outputs": [],
   "source": [
    "def linear_system_solve(coef_matrix, free_element_vector):\n",
    "    permutation, L, U = lu(coef_matrix)\n",
    "    perm_inv = np.linalg.inv(permutation)\n",
    "    y = triangle_solve(L, perm_inv.dot(free_element_vector))\n",
    "    x = triangle_solve(U,y,descending=True)\n",
    "    return x"
   ]
  },
  {
   "cell_type": "code",
   "execution_count": 133,
   "metadata": {},
   "outputs": [
    {
     "name": "stdout",
     "output_type": "stream",
     "text": [
      "Wall time: 0 ns\n"
     ]
    },
    {
     "data": {
      "text/plain": [
       "array([[-1.00000000e+00],\n",
       "       [ 1.46549439e-16],\n",
       "       [ 1.00000000e+00]])"
      ]
     },
     "execution_count": 133,
     "metadata": {},
     "output_type": "execute_result"
    }
   ],
   "source": [
    "%%time\n",
    "A = np.array([[2,1,3],[11,7,5],[9,8,4]])\n",
    "b = np.array([[1],[-6],[-5]])\n",
    "linear_system_solve(A,b)"
   ]
  },
  {
   "cell_type": "code",
   "execution_count": 134,
   "metadata": {},
   "outputs": [
    {
     "name": "stdout",
     "output_type": "stream",
     "text": [
      "Wall time: 0 ns\n"
     ]
    },
    {
     "data": {
      "text/plain": [
       "array([[-1.00000000e+00],\n",
       "       [ 2.44249065e-16],\n",
       "       [ 1.00000000e+00]])"
      ]
     },
     "execution_count": 134,
     "metadata": {},
     "output_type": "execute_result"
    }
   ],
   "source": [
    "%%time\n",
    "np.linalg.solve(A,b)"
   ]
  },
  {
   "cell_type": "markdown",
   "metadata": {},
   "source": [
    "1. Найти с помощью NumPy SVD для матрицы\n",
    "\n",
    "$$\\begin{pmatrix}\n",
    "1 & 2 & 0\\\\ \n",
    "0 & 0 & 5\\\\ \n",
    "3 & -4 & 2\\\\ \n",
    "1 & 6 & 5\\\\ \n",
    "0 & 1 & 0\n",
    "\\end{pmatrix}.$$"
   ]
  },
  {
   "cell_type": "code",
   "execution_count": 4,
   "metadata": {},
   "outputs": [],
   "source": [
    "A = np.array([[1,2,0],[0,0,5],[3,-4,2],[1,6,5],[0,1,0]])\n",
    "U, d, V = np.linalg.svd(A)"
   ]
  },
  {
   "cell_type": "code",
   "execution_count": 11,
   "metadata": {},
   "outputs": [
    {
     "data": {
      "text/plain": [
       "array([[ 0.17056501,  0.15680918, -0.53077508, -0.79905375, -0.16158397],\n",
       "       [ 0.39287016, -0.52933945,  0.6134793 , -0.43375771,  0.03082495],\n",
       "       [-0.14366152, -0.82449256, -0.52379105,  0.14049848,  0.07400343],\n",
       "       [ 0.88843702,  0.06074346, -0.24655277,  0.37755832, -0.06042632],\n",
       "       [ 0.08125046,  0.10831843, -0.08231425, -0.10524851,  0.98173958]])"
      ]
     },
     "execution_count": 11,
     "metadata": {},
     "output_type": "execute_result"
    }
   ],
   "source": [
    "U"
   ]
  },
  {
   "cell_type": "code",
   "execution_count": 12,
   "metadata": {},
   "outputs": [
    {
     "data": {
      "text/plain": [
       "array([[ 0.07116451,  0.71702467,  0.69340553],\n",
       "       [-0.36737824,  0.66514082, -0.65009301],\n",
       "       [-0.92734505, -0.20847855,  0.31075368]])"
      ]
     },
     "execution_count": 12,
     "metadata": {},
     "output_type": "execute_result"
    }
   ],
   "source": [
    "V"
   ]
  },
  {
   "cell_type": "code",
   "execution_count": 6,
   "metadata": {},
   "outputs": [
    {
     "data": {
      "text/plain": [
       "array([[8.82486885, 0.        , 0.        ],\n",
       "       [0.        , 6.14060608, 0.        ],\n",
       "       [0.        , 0.        , 2.53271528],\n",
       "       [0.        , 0.        , 0.        ],\n",
       "       [0.        , 0.        , 0.        ]])"
      ]
     },
     "execution_count": 6,
     "metadata": {},
     "output_type": "execute_result"
    }
   ],
   "source": [
    "D = np.zeros_like(A, dtype=float)\n",
    "D[np.diag_indices(min(A.shape))] = d\n",
    "D"
   ]
  },
  {
   "cell_type": "code",
   "execution_count": 10,
   "metadata": {},
   "outputs": [
    {
     "data": {
      "text/plain": [
       "array([[ 1.,  2.,  0.],\n",
       "       [ 0., -0.,  5.],\n",
       "       [ 3., -4.,  2.],\n",
       "       [ 1.,  6.,  5.],\n",
       "       [-0.,  1., -0.]])"
      ]
     },
     "execution_count": 10,
     "metadata": {},
     "output_type": "execute_result"
    }
   ],
   "source": [
    "np.round(U.dot(D.dot(V)))"
   ]
  },
  {
   "cell_type": "markdown",
   "metadata": {},
   "source": [
    "2. Для матрицы из предыдущего задания найти:\n",
    "\n",
    "    а) евклидову норму;\n",
    "    \n",
    "    б) норму Фробениуса."
   ]
  },
  {
   "cell_type": "markdown",
   "metadata": {},
   "source": [
    "а)евклидова норма равна первому сингулярному числу"
   ]
  },
  {
   "cell_type": "code",
   "execution_count": 20,
   "metadata": {},
   "outputs": [
    {
     "data": {
      "text/plain": [
       "8.824868854820442"
      ]
     },
     "execution_count": 20,
     "metadata": {},
     "output_type": "execute_result"
    }
   ],
   "source": [
    "D[0,0]"
   ]
  },
  {
   "cell_type": "markdown",
   "metadata": {},
   "source": [
    "б)Вычислим норму Фробениуса по формуле $$\\left \\| A \\right \\|_{F}=\\sqrt{\\sum_{k=1}^{r}\\mu_{k}^{2}}.$$"
   ]
  },
  {
   "cell_type": "code",
   "execution_count": 33,
   "metadata": {},
   "outputs": [
    {
     "data": {
      "text/plain": [
       "11.045361017187261"
      ]
     },
     "execution_count": 33,
     "metadata": {},
     "output_type": "execute_result"
    }
   ],
   "source": [
    "np.sqrt(sum(sum(map(lambda x: pow(x,2), D))))"
   ]
  },
  {
   "cell_type": "code",
   "execution_count": null,
   "metadata": {},
   "outputs": [],
   "source": []
  }
 ],
 "metadata": {
  "kernelspec": {
   "display_name": "Python 3",
   "language": "python",
   "name": "python3"
  },
  "language_info": {
   "codemirror_mode": {
    "name": "ipython",
    "version": 3
   },
   "file_extension": ".py",
   "mimetype": "text/x-python",
   "name": "python",
   "nbconvert_exporter": "python",
   "pygments_lexer": "ipython3",
   "version": "3.7.3"
  }
 },
 "nbformat": 4,
 "nbformat_minor": 2
}
