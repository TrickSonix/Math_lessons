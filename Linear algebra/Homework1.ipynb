{
 "cells": [
  {
   "cell_type": "code",
   "execution_count": 1,
   "metadata": {},
   "outputs": [],
   "source": [
    "import numpy as np"
   ]
  },
  {
   "cell_type": "markdown",
   "metadata": {},
   "source": [
    "__1.__ Исследовать на линейную зависимость:\n",
    "$$f_{1}(x)=e^{x}, f_{2}(x)=1, f_{3}(x)=x+1, f_{4}(x)=x-e^{x}.$$"
   ]
  },
  {
   "cell_type": "markdown",
   "metadata": {},
   "source": [
    "Легко можно заметить, что $f_{4}(x) = f_{3}(x) - f_{2}(x) - f_{1}(x)$, таким образом эти функции линейно зависимы."
   ]
  },
  {
   "cell_type": "markdown",
   "metadata": {},
   "source": [
    "__2.__ Исследовать на линейную зависимость:\n",
    "$$f_{1}(x)=2, f_{2}(x)=x, f_{3}(x)=x^{2}, f_{4}(x)=(x+1)^{2}.$$"
   ]
  },
  {
   "cell_type": "markdown",
   "metadata": {},
   "source": [
    "Раскроем $f_{4}(x) = x^{2} + 2x + 1$ и так же легко замечаем, что $f_{4}(x) = f_{3}(x) + 2f_{2}(x) + \\frac{1}{2}f_{1}(x)$. Таким образом эти функции линейно зависимы."
   ]
  },
  {
   "cell_type": "markdown",
   "metadata": {},
   "source": [
    "__3.__ Найти координаты вектора $x = (2, 3, 5)\\in \\mathbb{R}^{3}$ в базисе $b_{1}=(0, 0, 10)$, $b_{2}=(2, 0, 0)$, $b_{3}=(0, 1, 0)$."
   ]
  },
  {
   "cell_type": "markdown",
   "metadata": {},
   "source": [
    "Для нахождения координат составим систему:\n",
    "$$\\begin{cases}\n",
    "  x_{1}*10 = 5\\\\\n",
    "  x_{2}*2 = 2\\\\\n",
    "  x_{3}*1 = 3\n",
    "\\end{cases}$$\n",
    "Откуда $x_{1} = \\frac{1}{2}, x_{2} = 1, x_{3} = 3$. Таким образом координаты нашего вектора в искомом базисе $x_{b} = (1, 3, \\frac{1}{2})$"
   ]
  },
  {
   "cell_type": "markdown",
   "metadata": {},
   "source": [
    "__4.__ Найти координаты вектора $3x^{2}-2x+2\\in\\mathbb{R}^{3}[x]$:\n",
    "\n",
    "   а) в базисе $1$, $x$, $x^{2}$;\n",
    "\n",
    "   б) в базисе $x^{2}$, $x-1$, $1$."
   ]
  },
  {
   "cell_type": "markdown",
   "metadata": {},
   "source": [
    "а)Обозначим наш базис: $e_{1} = 1, e_{2} = x, e_{3} = x^{2}$. Тогда наша функция в искомом базисе: $3e_{3} - 2e_{2} + 2e_{1}$."
   ]
  },
  {
   "cell_type": "markdown",
   "metadata": {},
   "source": [
    "б)Обозначим фкнцию как f(x) а наш базис: $e_{1} = x^{2}, e_{2} = x-1, e_{3} = 1$. Найдем искомые координаты составив уравнение:\n",
    "$$f(x) = \\alpha_{1}e_{1} + \\alpha_{2}e_{2} + \\alpha_{3}e_{3}$$\n",
    "Подставим значения и раскроем скобки:\n",
    "$$3x^{2} - 2x + 2 = \\alpha_{1}x^{2} + \\alpha_{2}x - \\alpha_{2} + \\alpha_{3}$$\n",
    "Откуда получаем систему:\n",
    "$$\\begin{cases}\n",
    "  \\alpha_{1} = 3,\\\\\n",
    "  \\alpha_{2} = -2,\\\\\n",
    "  \\alpha_{3} - \\alpha_{2} = 2\n",
    "  \\end{cases}$$\n",
    "Откуда получаем $\\alpha_{1} = 3, \\alpha_{2} = -2, \\alpha_{3} = 0$"
   ]
  },
  {
   "cell_type": "markdown",
   "metadata": {},
   "source": [
    "__5.__ Установить, является ли линейным подпространством:\n",
    "\n",
    "а) совокупность всех векторов трехмерного пространства, у которых по крайней мере одна из первых двух координат равна нулю;\n",
    "    \n",
    "б) все векторы, являющиеся линейными комбинациями данных векторов $\\{u_{1}, u_{2}, ..., u_{n}\\}$."
   ]
  },
  {
   "cell_type": "markdown",
   "metadata": {},
   "source": [
    "а)Такие вектора имеют вид $(0, x_{2}, x_{3})$ или $(x_{1}, 0, x_{3})$. Обозначим множество таких векторов L. Проверим, является ли множество таких векторов подпространством:\n",
    "$$(0, x_{2}, x_{3}) + (0, x'_{2}, x'_{3}) = (0, x_{2} + x'_{2}, x_{3} + x'_{3}) \\in L\\\\\n",
    "\\alpha\\cdot(0, x_{2}, x_{3}) = (0, \\alpha x_{2}, \\alpha x_{3}) \\in L\\\\\n",
    "(x_{1}, 0, x_{3}) + (x'_{1}, 0, x'_{3}) = (x_{1} + x'_{1}, 0, x_{3} + x'_{3}) \\in L\\\\\n",
    "\\alpha\\cdot(x_{1}, 0, x_{3}) = (\\alpha x_{1}, 0, \\alpha x_{3}) \\in L$$\n",
    "Таким образом L - подпространство $\\mathbb{R}^{3}$"
   ]
  },
  {
   "cell_type": "markdown",
   "metadata": {},
   "source": [
    "б)Обозначим множество таких векторов L. Каждый вектор можно записать в виде $\\alpha_{1}u_{1} + \\alpha_{2}u_{2} + ... + \\alpha_{n}u_{n}$. Пусть g,h $\\in$ L. Проверка:\n",
    "$$g + h = \\alpha_{1}u_{1} + \\alpha_{2}u_{2} + ... + \\alpha_{n}u_{n} + \\beta_{1}u_{1} + \\beta_{2}u_{2} + ... + \\beta_{n}u_{n} = (\\alpha_{1} + \\beta_{1})u_{1} + ... + (\\alpha_{n} + \\beta_{n})u_{n} \\in L\\\\\n",
    "k\\cdot g = k\\alpha_{1}u_{1} + k\\alpha_{2}u_{2} + ... + k\\alpha_{n}u_{n} \\in L\\\\\n",
    "$$\n",
    "Таким образом L - подпространство $\\mathbb{R}^{l}$, где l - размерность данных векторов."
   ]
  },
  {
   "cell_type": "markdown",
   "metadata": {},
   "source": [
    "__1.__ Найти скалярное произведение векторов $x, y \\in \\mathbb{R}$:<br>\n",
    "а) $x=(0,-3, 6),~y=(-4, 7, 9);$<br>\n",
    "б) $x=(7, -4, 0, 1),~y=(-3, 1, 11, 2).$"
   ]
  },
  {
   "cell_type": "markdown",
   "metadata": {},
   "source": [
    "а)(x,y) = -4$\\cdot$0 + (-3)$\\cdot$7 + 6$\\cdot$9 = 33"
   ]
  },
  {
   "cell_type": "code",
   "execution_count": 3,
   "metadata": {},
   "outputs": [
    {
     "data": {
      "text/plain": [
       "33"
      ]
     },
     "execution_count": 3,
     "metadata": {},
     "output_type": "execute_result"
    }
   ],
   "source": [
    "x = np.array([0,-3,6])\n",
    "y = np.array([-4,7,9])\n",
    "x.dot(y)"
   ]
  },
  {
   "cell_type": "markdown",
   "metadata": {},
   "source": [
    "б)(x,y) = 7$\\cdot$(-3) + (-4)$\\cdot$1 + 0$\\cdot$11 + 1$\\cdot$2 = -23"
   ]
  },
  {
   "cell_type": "code",
   "execution_count": 4,
   "metadata": {},
   "outputs": [
    {
     "data": {
      "text/plain": [
       "-23"
      ]
     },
     "execution_count": 4,
     "metadata": {},
     "output_type": "execute_result"
    }
   ],
   "source": [
    "x = np.array([7,-4,0,1])\n",
    "y = np.array([-3,1,11,2])\n",
    "x.dot(y)"
   ]
  },
  {
   "cell_type": "markdown",
   "metadata": {},
   "source": [
    "__2.__ Найти нормы векторов $(4, 2, 4)$ и $(12, 3, 4)$ и угол между ними."
   ]
  },
  {
   "cell_type": "markdown",
   "metadata": {},
   "source": [
    "$$\\left\\|(4,2,4)\\right\\| = \\sqrt{4^{2} + 2^{2} + 4^{2}} = \\sqrt{36} = 6\\\\\n",
    "\\left\\|(12,3,4)\\right\\| = \\sqrt{12^{2} + 3^{2} + 4^{2}} = \\sqrt{169} = 13\\\\\n",
    "cos\\varphi = \\frac{(4\\cdot12 + 2\\cdot3 + 4\\cdot4)}{6\\cdot13} = \\frac{70}{78} \\approx 0.897$$"
   ]
  },
  {
   "cell_type": "code",
   "execution_count": 5,
   "metadata": {},
   "outputs": [],
   "source": [
    "a = np.array([4,2,4])\n",
    "b = np.array([12,3,4])"
   ]
  },
  {
   "cell_type": "code",
   "execution_count": 6,
   "metadata": {},
   "outputs": [
    {
     "data": {
      "text/plain": [
       "6.0"
      ]
     },
     "execution_count": 6,
     "metadata": {},
     "output_type": "execute_result"
    }
   ],
   "source": [
    "np.linalg.norm(a)"
   ]
  },
  {
   "cell_type": "code",
   "execution_count": 7,
   "metadata": {},
   "outputs": [
    {
     "data": {
      "text/plain": [
       "13.0"
      ]
     },
     "execution_count": 7,
     "metadata": {},
     "output_type": "execute_result"
    }
   ],
   "source": [
    "np.linalg.norm(b)"
   ]
  },
  {
   "cell_type": "code",
   "execution_count": 12,
   "metadata": {},
   "outputs": [
    {
     "data": {
      "text/plain": [
       "0.8974358974358975"
      ]
     },
     "execution_count": 12,
     "metadata": {},
     "output_type": "execute_result"
    }
   ],
   "source": [
    "phi = a.dot(b)/(np.linalg.norm(a)*np.linalg.norm(b))\n",
    "phi"
   ]
  },
  {
   "cell_type": "markdown",
   "metadata": {},
   "source": [
    "угол в радианах"
   ]
  },
  {
   "cell_type": "code",
   "execution_count": 11,
   "metadata": {},
   "outputs": [
    {
     "data": {
      "text/plain": [
       "0.45687400353266105"
      ]
     },
     "execution_count": 11,
     "metadata": {},
     "output_type": "execute_result"
    }
   ],
   "source": [
    "np.arccos(phi)"
   ]
  },
  {
   "cell_type": "markdown",
   "metadata": {},
   "source": [
    "__3.__ Будет ли линейное пространство евклидовым, если за скалярное произведение принять:<br>\n",
    "а) произведение длин векторов;<br>\n",
    "б) утроенное обычное скалярное произведение векторов?"
   ]
  },
  {
   "cell_type": "markdown",
   "metadata": {},
   "source": [
    "а)Проверим 4 аксиомы:<br>\n",
    "1)(x,y) = (y,x) из-за коммутативности операции умножения<br>\n",
    "$2)(\\lambda x,y) = \\lambda (x,y)$ - из-за ассоциативности операции умножения.<br>\n",
    "$3)(x_{1} + x_{2},y) = (x_{1},y) + (x_{2},y)$ - из-за дистрибутивности умножения относительно сложения<br>\n",
    "$4)(x,x) \\geq 0$, причем $(x,x) = 0 \\Leftrightarrow x = 0$  - длина вектора всегда $\\geq$ 0, произведение равно - только если один из множителей = 0<br>\n",
    "Вывод: пространство Евклидово"
   ]
  },
  {
   "cell_type": "markdown",
   "metadata": {},
   "source": [
    "б)В этом случае все аксиомы будут соблюдаться, из-за свойства 2 скалярного произведения.<br>\n",
    "Ответ: Да."
   ]
  },
  {
   "cell_type": "markdown",
   "metadata": {},
   "source": [
    "__4.__ Какие из нижеперечисленных векторов образуют ортонормированный базис в линейном пространстве $\\mathbb{R}^{3}$:<br>\n",
    "а) $(1,0,0),(0,0,1);$ <br>\n",
    "б) $(1/\\sqrt{2},-1/\\sqrt{2},0),(1/\\sqrt{2},1/\\sqrt{2},0), (0,0,1);$<br>\n",
    "в) $(1/2, -1/2, 0), (0, 1/2, 1/2), (0,0,1);$<br>\n",
    "г) $(1,0,0),(0,1,0),(0,0,1)?$"
   ]
  },
  {
   "cell_type": "markdown",
   "metadata": {},
   "source": [
    "а)нет, т.к. не хватает одного вектора.<br>\n",
    "б)да, т.к. соблюдается условие $(e_{i}, e_{j})=0$ $\\forall$ $i\\neq j$ и $(e_{i},e_{i})=1$ $\\forall$ $i\\in[1, n].$<br>\n",
    "в)нет, т.к. условие не соблюдается<br>\n",
    "г)да"
   ]
  }
 ],
 "metadata": {
  "kernelspec": {
   "display_name": "Python 3",
   "language": "python",
   "name": "python3"
  },
  "language_info": {
   "codemirror_mode": {
    "name": "ipython",
    "version": 3
   },
   "file_extension": ".py",
   "mimetype": "text/x-python",
   "name": "python",
   "nbconvert_exporter": "python",
   "pygments_lexer": "ipython3",
   "version": "3.7.3"
  }
 },
 "nbformat": 4,
 "nbformat_minor": 2
}
