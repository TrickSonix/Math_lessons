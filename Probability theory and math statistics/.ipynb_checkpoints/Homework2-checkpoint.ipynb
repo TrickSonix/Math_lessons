{
 "cells": [
  {
   "cell_type": "code",
   "execution_count": 2,
   "metadata": {},
   "outputs": [],
   "source": [
    "import numpy as np"
   ]
  },
  {
   "cell_type": "markdown",
   "metadata": {},
   "source": [
    "Задача 1\n",
    "\n",
    "Контрольная работа состоит из пяти вопросов. На каждый вопрос приведено четыре варианта ответа, один из которых правильный. Составьте закон распределения числа правильных ответов при простом угадывании. Найдите M(X), D(X).\n",
    "\n",
    "Составим закон распределения числа правильных ответов в виде таблицы, состоящей из 6 колонок (вероятность 0 раз ответить правильно, 1 раз и так далее до 5). Вероятности каждого конкретного столбца посчитаем по формуле Бернулли. Вероятность ответить правильно p=0.25, и вероятность ответить неправильно q = 1-p = 0.75."
   ]
  },
  {
   "cell_type": "code",
   "execution_count": 3,
   "metadata": {},
   "outputs": [],
   "source": [
    "def probability_1(m):\n",
    "    return (np.math.factorial(5)/(np.math.factorial(m)*np.math.factorial(5-m)))*np.power(0.25, m)*np.power(0.75, 5-m)"
   ]
  },
  {
   "cell_type": "code",
   "execution_count": 4,
   "metadata": {
    "scrolled": true
   },
   "outputs": [
    {
     "data": {
      "text/plain": [
       "[0.2373046875,\n",
       " 0.3955078125,\n",
       " 0.263671875,\n",
       " 0.087890625,\n",
       " 0.0146484375,\n",
       " 0.0009765625]"
      ]
     },
     "execution_count": 4,
     "metadata": {},
     "output_type": "execute_result"
    }
   ],
   "source": [
    "res = []\n",
    "for i in range(0, 6):\n",
    "    res.append(probability_1(i))\n",
    "res"
   ]
  },
  {
   "cell_type": "markdown",
   "metadata": {},
   "source": [
    "Найдем М(х) = 5*0.25 = 1.25 и D(x) = 5*0.25*0.75 = 0.9375"
   ]
  },
  {
   "cell_type": "markdown",
   "metadata": {},
   "source": [
    "Задача 2\n",
    "\n",
    "Пользователь получает в среднем 10 писем со спамом на свой почтовый ящик за сутки. Найти число N, такое, что с вероятностью 0.95 пользователь получит не более N писем со спамом за текущий день.\n",
    "\n",
    "Пусть событие А - пользователь получил не более N писем со спамом за текущий день. P(A) - это сумма вероятностей получить за день 0, 1, 2.... N писем со спамом. Каждую такую вероятность можно посчитать по формуле Пуассона.\n",
    "\n",
    "P(A) = (λ^N)*exp(-λ)/N! + (λ^(N-1))*exp(-λ)/(N-1)! + ... + λ*exp(-λ) + exp(-λ).\n",
    "\n",
    "В задаче известна величина λ = 10. Отсюда, обычным перебором можно найти N."
   ]
  },
  {
   "cell_type": "code",
   "execution_count": 32,
   "metadata": {},
   "outputs": [],
   "source": [
    "def probability_2(m):\n",
    "    if m != 0:\n",
    "        return pow(10, m)*np.exp(-10)/np.math.factorial(m)\n",
    "    else:\n",
    "        return np.exp(-10)"
   ]
  },
  {
   "cell_type": "code",
   "execution_count": 36,
   "metadata": {},
   "outputs": [
    {
     "data": {
      "text/plain": [
       "15"
      ]
     },
     "execution_count": 36,
     "metadata": {},
     "output_type": "execute_result"
    }
   ],
   "source": [
    "result = 0\n",
    "N = 0\n",
    "while result < 0.95:\n",
    "    result = 0\n",
    "    N += 1\n",
    "    for i in range(0,N):\n",
    "        result += probability_2(i)\n",
    "N-1"
   ]
  },
  {
   "cell_type": "markdown",
   "metadata": {},
   "source": [
    "Ответ: N=15."
   ]
  },
  {
   "cell_type": "markdown",
   "metadata": {},
   "source": [
    "Задача 3\n",
    "\n",
    "Производятся выстрелы по мишени. Вероятность попадания в мишень при одном выстреле равна 0.01. Сколько выстрелов нужно сделать чтобы быть уверенным с вероятностью 0.9, что хотя бы 6 раз будет совершено попадание?\n",
    "\n",
    "Пусть А - в мишень попали хотя бы 6 раз. Эта вероятность складывается из вероятности попасть 6, 7, 8 .... n раз в мишень из n испытаний. Соответствующие вероянтности вычислим по формуле биномиального распределения."
   ]
  },
  {
   "cell_type": "code",
   "execution_count": 15,
   "metadata": {},
   "outputs": [],
   "source": [
    "def combinations(n, k):\n",
    "    return np.math.factorial(n)//(np.math.factorial(k)*np.math.factorial(n-k))"
   ]
  },
  {
   "cell_type": "code",
   "execution_count": 19,
   "metadata": {},
   "outputs": [],
   "source": [
    "def probability_3(m, n):\n",
    "    return combinations(n, m)*pow(0.01, m)*pow(0.99, n-m)"
   ]
  },
  {
   "cell_type": "code",
   "execution_count": 20,
   "metadata": {},
   "outputs": [
    {
     "data": {
      "text/plain": [
       "926"
      ]
     },
     "execution_count": 20,
     "metadata": {},
     "output_type": "execute_result"
    }
   ],
   "source": [
    "probability = 0\n",
    "n = 6\n",
    "while probability < 0.9:\n",
    "    probability = 0\n",
    "    n += 1\n",
    "    for m in range (6, n):\n",
    "        probability += probability_3(m, n-1)\n",
    "n-1"
   ]
  },
  {
   "cell_type": "markdown",
   "metadata": {},
   "source": [
    "Ответ: 926 раз"
   ]
  },
  {
   "cell_type": "code",
   "execution_count": null,
   "metadata": {},
   "outputs": [],
   "source": []
  }
 ],
 "metadata": {
  "kernelspec": {
   "display_name": "Python 3",
   "language": "python",
   "name": "python3"
  },
  "language_info": {
   "codemirror_mode": {
    "name": "ipython",
    "version": 3
   },
   "file_extension": ".py",
   "mimetype": "text/x-python",
   "name": "python",
   "nbconvert_exporter": "python",
   "pygments_lexer": "ipython3",
   "version": "3.7.3"
  }
 },
 "nbformat": 4,
 "nbformat_minor": 2
}
