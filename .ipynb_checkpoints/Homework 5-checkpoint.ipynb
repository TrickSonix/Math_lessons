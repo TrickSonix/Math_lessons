{
 "cells": [
  {
   "cell_type": "code",
   "execution_count": 21,
   "metadata": {},
   "outputs": [],
   "source": [
    "import numpy as np\n",
    "import matplotlib.pyplot as plt"
   ]
  },
  {
   "cell_type": "markdown",
   "metadata": {},
   "source": [
    "Task 1"
   ]
  },
  {
   "cell_type": "code",
   "execution_count": 3,
   "metadata": {},
   "outputs": [
    {
     "name": "stdout",
     "output_type": "stream",
     "text": [
      "21\n",
      "Нажмите enter, чтобы крутить рулетку еще раз\n",
      "\n",
      "27\n",
      "Нажмите enter, чтобы крутить рулетку еще раз\n",
      "\n",
      "33\n",
      "Нажмите enter, чтобы крутить рулетку еще раз\n",
      "\n",
      "8\n",
      "Нажмите enter, чтобы крутить рулетку еще раз\n",
      "4\n"
     ]
    }
   ],
   "source": [
    "exit = False\n",
    "while not exit:\n",
    "    print(np.random.randint(0,37))\n",
    "    print(\"Нажмите enter, чтобы крутить рулетку еще раз\")\n",
    "    exit = input()"
   ]
  },
  {
   "cell_type": "markdown",
   "metadata": {},
   "source": [
    "Task 2"
   ]
  },
  {
   "cell_type": "code",
   "execution_count": 19,
   "metadata": {},
   "outputs": [],
   "source": [
    "a = []\n",
    "for i in range(0,10):\n",
    "    a.append(np.array([np.random.uniform() for i in range(0,10)]))"
   ]
  },
  {
   "cell_type": "code",
   "execution_count": 25,
   "metadata": {
    "scrolled": true
   },
   "outputs": [
    {
     "data": {
      "text/plain": [
       "Text(0, 0.5, 'amount')"
      ]
     },
     "execution_count": 25,
     "metadata": {},
     "output_type": "execute_result"
    },
    {
     "data": {
      "image/png": "[encoded data removed]",
      "text/plain": [
       "<Figure size 432x288 with 1 Axes>"
      ]
     },
     "metadata": {
      "needs_background": "light"
     },
     "output_type": "display_data"
    }
   ],
   "source": [
    "x = [f.sum() for f in a]\n",
    "n, bins, patches = plt.hist(x,6)\n",
    "plt.xlabel('x')\n",
    "plt.ylabel('amount')"
   ]
  },
  {
   "cell_type": "markdown",
   "metadata": {},
   "source": [
    "Task 3"
   ]
  },
  {
   "cell_type": "code",
   "execution_count": 29,
   "metadata": {},
   "outputs": [],
   "source": [
    "import math"
   ]
  },
  {
   "cell_type": "code",
   "execution_count": 32,
   "metadata": {},
   "outputs": [
    {
     "name": "stdout",
     "output_type": "stream",
     "text": [
      "0.3751 0.375\n"
     ]
    }
   ],
   "source": [
    "k, n = 0, 10000\n",
    "a = np.random.randint(0,2,n)\n",
    "b = np.random.randint(0,2,n)\n",
    "c = np.random.randint(0,2,n)\n",
    "d = np.random.randint(0,2,n)\n",
    "x = a+b+c+d\n",
    "for i in range(0,n):\n",
    "    if x[i] == 2:\n",
    "        k += 1\n",
    "probability = math.factorial(4)/(math.factorial(2)*math.factorial(2)*2**4)\n",
    "print(k/n, probability)"
   ]
  },
  {
   "cell_type": "code",
   "execution_count": 33,
   "metadata": {},
   "outputs": [
    {
     "data": {
      "text/plain": [
       "0.1171875"
      ]
     },
     "execution_count": 33,
     "metadata": {},
     "output_type": "execute_result"
    }
   ],
   "source": [
    "n, k = 10, 3\n",
    "math.factorial(n)/(math.factorial(k)*math.factorial(n-k)*2**n)"
   ]
  },
  {
   "cell_type": "markdown",
   "metadata": {},
   "source": [
    "Task 4"
   ]
  },
  {
   "cell_type": "code",
   "execution_count": 34,
   "metadata": {},
   "outputs": [],
   "source": [
    "import itertools"
   ]
  },
  {
   "cell_type": "code",
   "execution_count": 37,
   "metadata": {},
   "outputs": [
    {
     "name": "stdout",
     "output_type": "stream",
     "text": [
      "012\n",
      "013\n",
      "014\n",
      "015\n",
      "023\n",
      "024\n",
      "025\n",
      "034\n",
      "035\n",
      "045\n",
      "123\n",
      "124\n",
      "125\n",
      "134\n",
      "135\n",
      "145\n",
      "234\n",
      "235\n",
      "245\n",
      "345\n"
     ]
    }
   ],
   "source": [
    "for p in itertools.combinations('012345', 3):\n",
    "    print(''.join(p))"
   ]
  },
  {
   "cell_type": "code",
   "execution_count": 43,
   "metadata": {},
   "outputs": [
    {
     "name": "stdout",
     "output_type": "stream",
     "text": [
      "012\n",
      "013\n",
      "014\n",
      "015\n",
      "021\n",
      "023\n",
      "024\n",
      "025\n",
      "031\n",
      "032\n",
      "034\n",
      "035\n",
      "041\n",
      "042\n",
      "043\n",
      "045\n",
      "051\n",
      "052\n",
      "053\n",
      "054\n",
      "102\n",
      "103\n",
      "104\n",
      "105\n",
      "120\n",
      "123\n",
      "124\n",
      "125\n",
      "130\n",
      "132\n",
      "134\n",
      "135\n",
      "140\n",
      "142\n",
      "143\n",
      "145\n",
      "150\n",
      "152\n",
      "153\n",
      "154\n",
      "201\n",
      "203\n",
      "204\n",
      "205\n",
      "210\n",
      "213\n",
      "214\n",
      "215\n",
      "230\n",
      "231\n",
      "234\n",
      "235\n",
      "240\n",
      "241\n",
      "243\n",
      "245\n",
      "250\n",
      "251\n",
      "253\n",
      "254\n",
      "301\n",
      "302\n",
      "304\n",
      "305\n",
      "310\n",
      "312\n",
      "314\n",
      "315\n",
      "320\n",
      "321\n",
      "324\n",
      "325\n",
      "340\n",
      "341\n",
      "342\n",
      "345\n",
      "350\n",
      "351\n",
      "352\n",
      "354\n",
      "401\n",
      "402\n",
      "403\n",
      "405\n",
      "410\n",
      "412\n",
      "413\n",
      "415\n",
      "420\n",
      "421\n",
      "423\n",
      "425\n",
      "430\n",
      "431\n",
      "432\n",
      "435\n",
      "450\n",
      "451\n",
      "452\n",
      "453\n",
      "501\n",
      "502\n",
      "503\n",
      "504\n",
      "510\n",
      "512\n",
      "513\n",
      "514\n",
      "520\n",
      "521\n",
      "523\n",
      "524\n",
      "530\n",
      "531\n",
      "532\n",
      "534\n",
      "540\n",
      "541\n",
      "542\n",
      "543\n"
     ]
    }
   ],
   "source": [
    "for p in itertools.permutations('012345', 3):\n",
    "    print(''.join(p))"
   ]
  },
  {
   "cell_type": "code",
   "execution_count": 44,
   "metadata": {},
   "outputs": [
    {
     "name": "stdout",
     "output_type": "stream",
     "text": [
      "000\n",
      "001\n",
      "002\n",
      "003\n",
      "004\n",
      "010\n",
      "011\n",
      "012\n",
      "013\n",
      "014\n",
      "020\n",
      "021\n",
      "022\n",
      "023\n",
      "024\n",
      "030\n",
      "031\n",
      "032\n",
      "033\n",
      "034\n",
      "040\n",
      "041\n",
      "042\n",
      "043\n",
      "044\n",
      "100\n",
      "101\n",
      "102\n",
      "103\n",
      "104\n",
      "110\n",
      "111\n",
      "112\n",
      "113\n",
      "114\n",
      "120\n",
      "121\n",
      "122\n",
      "123\n",
      "124\n",
      "130\n",
      "131\n",
      "132\n",
      "133\n",
      "134\n",
      "140\n",
      "141\n",
      "142\n",
      "143\n",
      "144\n",
      "200\n",
      "201\n",
      "202\n",
      "203\n",
      "204\n",
      "210\n",
      "211\n",
      "212\n",
      "213\n",
      "214\n",
      "220\n",
      "221\n",
      "222\n",
      "223\n",
      "224\n",
      "230\n",
      "231\n",
      "232\n",
      "233\n",
      "234\n",
      "240\n",
      "241\n",
      "242\n",
      "243\n",
      "244\n",
      "300\n",
      "301\n",
      "302\n",
      "303\n",
      "304\n",
      "310\n",
      "311\n",
      "312\n",
      "313\n",
      "314\n",
      "320\n",
      "321\n",
      "322\n",
      "323\n",
      "324\n",
      "330\n",
      "331\n",
      "332\n",
      "333\n",
      "334\n",
      "340\n",
      "341\n",
      "342\n",
      "343\n",
      "344\n",
      "400\n",
      "401\n",
      "402\n",
      "403\n",
      "404\n",
      "410\n",
      "411\n",
      "412\n",
      "413\n",
      "414\n",
      "420\n",
      "421\n",
      "422\n",
      "423\n",
      "424\n",
      "430\n",
      "431\n",
      "432\n",
      "433\n",
      "434\n",
      "440\n",
      "441\n",
      "442\n",
      "443\n",
      "444\n"
     ]
    }
   ],
   "source": [
    "for p in itertools.product('01234', repeat=3):\n",
    "    print(''.join(p))"
   ]
  },
  {
   "cell_type": "markdown",
   "metadata": {},
   "source": [
    "Task 5"
   ]
  },
  {
   "cell_type": "code",
   "execution_count": 55,
   "metadata": {},
   "outputs": [
    {
     "name": "stdout",
     "output_type": "stream",
     "text": [
      "0.8991594163432052 0.8991594163432046\n"
     ]
    },
    {
     "data": {
      "image/png": "[encoded data removed]",
      "text/plain": [
       "<Figure size 432x288 with 1 Axes>"
      ]
     },
     "metadata": {
      "needs_background": "light"
     },
     "output_type": "display_data"
    }
   ],
   "source": [
    "n = 100\n",
    "r = 0.7\n",
    "x = np.random.rand(n)\n",
    "y = r*x + (1-r)*np.random.rand(n)\n",
    "plt.plot(x, y, 'o')\n",
    "plt.grid()\n",
    "mean_x = np.mean(x)\n",
    "mean_y = np.mean(y)\n",
    "R = np.sum((x-mean_x)*(y-mean_y))/(np.sum((x-mean_x)**2)*np.sum((y-mean_y)**2))**0.5\n",
    "R2 = np.corrcoef(x,y)\n",
    "print(R, R2[0,1])"
   ]
  },
  {
   "cell_type": "code",
   "execution_count": null,
   "metadata": {},
   "outputs": [],
   "source": []
  }
 ],
 "metadata": {
  "kernelspec": {
   "display_name": "Python 3",
   "language": "python",
   "name": "python3"
  },
  "language_info": {
   "codemirror_mode": {
    "name": "ipython",
    "version": 3
   },
   "file_extension": ".py",
   "mimetype": "text/x-python",
   "name": "python",
   "nbconvert_exporter": "python",
   "pygments_lexer": "ipython3",
   "version": "3.7.3"
  }
 },
 "nbformat": 4,
 "nbformat_minor": 2
}
